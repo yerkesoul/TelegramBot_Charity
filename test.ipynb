{
 "cells": [
  {
   "cell_type": "code",
   "execution_count": 1,
   "metadata": {},
   "outputs": [
    {
     "name": "stdout",
     "output_type": "stream",
     "text": [
      "Intel MKL WARNING: Support of Intel(R) Streaming SIMD Extensions 4.2 (Intel(R) SSE4.2) enabled only processors has been deprecated. Intel oneAPI Math Kernel Library 2025.0 will require Intel(R) Advanced Vector Extensions (Intel(R) AVX) instructions.\n",
      "Intel MKL WARNING: Support of Intel(R) Streaming SIMD Extensions 4.2 (Intel(R) SSE4.2) enabled only processors has been deprecated. Intel oneAPI Math Kernel Library 2025.0 will require Intel(R) Advanced Vector Extensions (Intel(R) AVX) instructions.\n"
     ]
    }
   ],
   "source": [
    "import pandas as pd\n",
    "\n",
    "# Load the existing CSV file\n",
    "file_path = \"/Users/yerkesoul/Documents/Projects/Telegram_Bot/Orphans_Table.csv\"  # Replace with your file path\n",
    "df = pd.read_csv(file_path)\n",
    "\n",
    "# Add a new column with a default value or custom values\n",
    "new_column_name = \"chosen_by\"  # Replace with the name of your new column\n",
    "df[new_column_name] = 0  # Replace \"DefaultValue\" with your desired value or a list of values\n",
    "\n",
    "# Save the updated DataFrame back to the CSV file\n",
    "df.to_csv(file_path, index=False)  # Use `index=False` to avoid adding the index as a column\n"
   ]
  },
  {
   "cell_type": "code",
   "execution_count": 3,
   "metadata": {},
   "outputs": [],
   "source": [
    "df.to_csv(\"updated_file.csv\", index=False)\n"
   ]
  },
  {
   "cell_type": "code",
   "execution_count": 13,
   "metadata": {},
   "outputs": [],
   "source": [
    "import sqlite3\n",
    "from datetime import datetime\n",
    "def initialize_orphans_database():\n",
    "    conn = sqlite3.connect(\"orphans.db\")\n",
    "    cursor = conn.cursor()\n",
    "    cursor.execute(\"\"\"\n",
    "    CREATE TABLE IF NOT EXISTS users (\n",
    "        id INTEGER PRIMARY KEY AUTOINCREMENT,\n",
    "        name TEXT NOT NULL,\n",
    "        phone TEXT NOT NULL UNIQUE,\n",
    "        telegram_username TEXT NOT NULL\n",
    "        )\n",
    "    \"\"\")\n",
    "\n",
    "\n",
    "    # Создание таблицы orphans\n",
    "    cursor.execute('''CREATE TABLE IF NOT EXISTS orphans (\n",
    "                        id INTEGER PRIMARY KEY,\n",
    "                        name TEXT,\n",
    "                        age INTEGER,\n",
    "                        gift TEXT,\n",
    "                        chosen INTEGER DEFAULT 0,\n",
    "                        chosen_by TEXT)''')\n",
    "\n",
    "    # Создание таблицы chosen_kids\n",
    "   # Create 'chosen_kids' table with the 'chosen_time' column\n",
    "    cursor.execute(\"\"\"\n",
    "        CREATE TABLE IF NOT EXISTS chosen_kids (\n",
    "            id INTEGER PRIMARY KEY AUTOINCREMENT,\n",
    "            user_id INTEGER NOT NULL,\n",
    "            user_name TEXT NOT NULL,\n",
    "            user_phone TEXT NOT NULL,\n",
    "            telegram_username TEXT,\n",
    "            orphan_id INTEGER NOT NULL,\n",
    "            orphan_name TEXT NOT NULL,\n",
    "            orphan_gift TEXT NOT NULL,\n",
    "            chosen_time TEXT DEFAULT CURRENT_TIMESTAMP,\n",
    "            FOREIGN KEY (user_id) REFERENCES users(id),\n",
    "            FOREIGN KEY (orphan_id) REFERENCES orphans(id)\n",
    "        )\n",
    "    \"\"\")\n",
    "\n",
    "    conn.commit()\n",
    "    conn.close()\n",
    "\n",
    "initialize_orphans_database()"
   ]
  }
 ],
 "metadata": {
  "kernelspec": {
   "display_name": "pythonProject",
   "language": "python",
   "name": "python3"
  },
  "language_info": {
   "codemirror_mode": {
    "name": "ipython",
    "version": 3
   },
   "file_extension": ".py",
   "mimetype": "text/x-python",
   "name": "python",
   "nbconvert_exporter": "python",
   "pygments_lexer": "ipython3",
   "version": "3.10.11"
  }
 },
 "nbformat": 4,
 "nbformat_minor": 2
}
